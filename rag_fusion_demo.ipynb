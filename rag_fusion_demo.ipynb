{
 "cells": [
  {
   "metadata": {},
   "cell_type": "markdown",
   "source": "RAG Fusion with Local LLM.\n",
   "id": "aa3289644c48b54f"
  },
  {
   "metadata": {},
   "cell_type": "markdown",
   "source": "Install python packages required for langchain",
   "id": "71dd432900db3b62"
  },
  {
   "cell_type": "code",
   "id": "initial_id",
   "metadata": {
    "collapsed": true
   },
   "source": "! pip install langchain langchain-core langchain_community tiktoken langchainhub chromadb langchain unstructured sentence-transformers pytesseract unstructured_pytesseract tesseract",
   "outputs": [],
   "execution_count": null
  },
  {
   "metadata": {},
   "cell_type": "markdown",
   "source": [
    "Set up os environment variables.\n",
    "This is to enable visibility of tracing langchain invocations on smith.langchain.com"
   ],
   "id": "476ed2a850ee25df"
  },
  {
   "metadata": {},
   "cell_type": "code",
   "source": [
    "import os\n",
    "os.environ['LANGCHAIN_TRACING_V2'] = 'true'\n",
    "os.environ['LANGCHAIN_ENDPOINT'] = 'https://api.smith.langchain.com'\n",
    "os.environ['LANGCHAIN_API_KEY'] = \"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\"\n",
    "os.environ['TOKENIZERS_PARALLELISM'] = 'false'"
   ],
   "id": "2d2fe68894954875",
   "outputs": [],
   "execution_count": null
  },
  {
   "metadata": {},
   "cell_type": "markdown",
   "source": "Set up indexing for the vector store db",
   "id": "a372465febe55f67"
  },
  {
   "metadata": {},
   "cell_type": "code",
   "source": [
    "from langchain_community.document_loaders import DirectoryLoader, UnstructuredPDFLoader\n",
    "from langchain_community.document_loaders import UnstructuredFileLoader\n",
    "from langchain_community.vectorstores import Chroma\n",
    "from langchain_text_splitters import CharacterTextSplitter\n",
    "from langchain_community.embeddings.sentence_transformer import (SentenceTransformerEmbeddings,)\n",
    "loader = DirectoryLoader(\"./documents/markdown\", glob=\"**/*.md\", show_progress=True, loader_cls=UnstructuredFileLoader)\n",
    "documents = loader.load()\n",
    "text_splitter = CharacterTextSplitter(chunk_size=1000, chunk_overlap=100)\n",
    "pdf_loader = DirectoryLoader('./documents/pdf', glob=\"**/*.pdf\", show_progress=True, loader_cls=UnstructuredPDFLoader)\n",
    "pdf_docs = pdf_loader.load()\n",
    "pdf_splitter = CharacterTextSplitter(chunk_size=1000, chunk_overlap=100)\n",
    "split_docs = text_splitter.split_documents(documents) + pdf_splitter.split_documents(pdf_docs)\n",
    "embedding_function = SentenceTransformerEmbeddings(model_name=\"all-MiniLM-L6-v2\")\n",
    "vectorstore = Chroma.from_documents(documents=split_docs,\n",
    "                                    embedding=embedding_function,\n",
    "                                    persist_directory=\"./db\")\n",
    "retriever = vectorstore.as_retriever()"
   ],
   "id": "152205ef37ab7cf6",
   "outputs": [],
   "execution_count": null
  },
  {
   "metadata": {},
   "cell_type": "markdown",
   "source": "Query the vector store to retrieve query similar documents",
   "id": "b651fa535b1b7f7a"
  },
  {
   "metadata": {},
   "cell_type": "code",
   "source": [
    "query = \"What is the code A_100?\"\n",
    "print(vectorstore)\n",
    "docs = vectorstore.similarity_search(query)\n",
    "for doc in docs:\n",
    "    print(f\"Document source: {doc.metadata}\")\n",
    "    print(f\"Document page_content: {doc.page_content}\\n\")\n",
    "    print(f\"--------------------------------------------\")"
   ],
   "id": "bf406abc637fee83",
   "outputs": [],
   "execution_count": null
  },
  {
   "metadata": {},
   "cell_type": "markdown",
   "source": "Generate multiple search queries based on the user's input question. This will then be used to retrieve documents from the vectorstore related to the question.",
   "id": "51a05a9354c7b75b"
  },
  {
   "metadata": {},
   "cell_type": "code",
   "source": [
    "from langchain_core.messages import AIMessage\n",
    "from langchain_community.chat_models import ChatOllama\n",
    "from langchain.prompts import ChatPromptTemplate\n",
    "\n",
    "# Template to ask LLM to generate 3 queries\n",
    "template = \"\"\"You are a helpful assistant that generates multiple sub-questions related to an input question.\n",
    "The goal is to break down the input into a set of sub-problems / sub-questions that can be answers in isolation.\n",
    "Generate multiple search queries related to: {question}\n",
    "\n",
    "You must only generate 3 queries. No more than 3 is allowed.\n",
    "\n",
    "Example:\n",
    "The three queries are (3 queries):\n",
    "1. This is the first query.\n",
    "2. This is the second query.\n",
    "3. This is the third query.\n",
    "\n",
    "The three queries are (3 queries):\"\"\"\n",
    "prompt_rag_fusion = ChatPromptTemplate.from_template(template)\n",
    "from langchain_core.output_parsers import StrOutputParser\n",
    "\n",
    "# Generates 3 queries based on the initial question to be used for RAG. This ensures we're more likely to retrieve the \n",
    "# document related to the original question.\n",
    "# We are retrying max_attempts times because sometimes the LLM returns empty output.\n",
    "def generate_queries(question):\n",
    "    max_attempts = 5\n",
    "    generated_queries = []\n",
    "    attempt = 0\n",
    "    while len(generated_queries) <= 3 and attempt < max_attempts:\n",
    "        llm_response: AIMessage = ChatOllama(model=\"llama3\").invoke(prompt_rag_fusion.format(question=question))\n",
    "        generated_queries = StrOutputParser().parse(text=llm_response.content).split(\"\\n\")\n",
    "        generate_queries = list(filter(lambda item: item.strip(), generated_queries))\n",
    "        attempt += 1\n",
    "    return generate_queries\n",
    "\n"
   ],
   "id": "f75b17655308bf1e",
   "outputs": [],
   "execution_count": null
  },
  {
   "metadata": {},
   "cell_type": "markdown",
   "source": "Experiment to generating multiple queries. This is not used further down.",
   "id": "17b60c8263144ea"
  },
  {
   "metadata": {},
   "cell_type": "code",
   "source": [
    "# Try it out here. But this is not used further down.\n",
    "print(generate_queries(\"What is the code A_100?\"))\n"
   ],
   "id": "c4c16bf15efdd235",
   "outputs": [],
   "execution_count": null
  },
  {
   "metadata": {},
   "cell_type": "markdown",
   "source": [
    "Retrieve the related documents to the three queries provided by the LLM. \n",
    "Perform ranking of the retrieved documents."
   ],
   "id": "9021a6dc1c203b89"
  },
  {
   "metadata": {},
   "cell_type": "code",
   "source": [
    "from langchain.load import dumps, loads\n",
    "\n",
    "\n",
    "def reciprocal_rank_fusion(results: list[list], k=60):\n",
    "    fused_scores = {}\n",
    "    for docs in results:\n",
    "        for rank, doc in enumerate(docs):\n",
    "            doc_str = dumps(doc)\n",
    "            if doc_str not in fused_scores:\n",
    "                fused_scores[doc_str] = 0\n",
    "            previous_score = fused_scores[doc_str]\n",
    "            fused_scores[doc_str] += 1 / (rank + k)\n",
    "    reranked_results = [\n",
    "        (loads(doc), score)\n",
    "        for doc, score in sorted(fused_scores.items(), key=lambda x: x[1], reverse=True)\n",
    "    ]\n",
    "    return reranked_results\n",
    "\n",
    "retrieval_fusion_chain = generate_queries | retriever.map() | reciprocal_rank_fusion\n"
   ],
   "id": "90f095e55ff514b7",
   "outputs": [],
   "execution_count": null
  },
  {
   "metadata": {},
   "cell_type": "markdown",
   "source": "Experiment with document retrieval. This is not used further down",
   "id": "f3e43d1a467dc4c0"
  },
  {
   "metadata": {},
   "cell_type": "code",
   "source": [
    "# Try it out. But it will not be used further down.\n",
    "docs = retrieval_fusion_chain.invoke({\"question\":\"What is the code A_100?\"})\n",
    "print(f\"Number of docs retrieved: {len(docs)}\\n\")\n",
    "for doc in docs:\n",
    "    print(f\"Document score: {doc[1]}\")\n",
    "    print(f\"Document source: {doc[0].metadata}\")\n",
    "    print(f\"Document page content:\")\n",
    "    print(f\"\\t{doc[0].page_content}\")\n",
    "    print(f\"--------------------------------------------\\n\")"
   ],
   "id": "eeda097aa6638f64",
   "outputs": [],
   "execution_count": null
  },
  {
   "metadata": {},
   "cell_type": "markdown",
   "source": "Pass the documents back into the context for the LLM and include the original question",
   "id": "312ff7bb0b381c55"
  },
  {
   "metadata": {},
   "cell_type": "code",
   "source": [
    "from operator import itemgetter\n",
    "\n",
    "# RAG\n",
    "template = \"\"\"Answer the following question based on this context:\n",
    "\n",
    "{context}\n",
    "\n",
    "Question: {question}\n",
    "\"\"\"\n",
    "\n",
    "prompt = ChatPromptTemplate.from_template(template)\n",
    "\n",
    "def generate_answer(question):\n",
    "    max_attempts = 3\n",
    "    response = ''\n",
    "    attempt = 0\n",
    "    while not response and attempt < max_attempts:\n",
    "        llm_response: AIMessage = ChatOllama(model=\"llama3\").invoke(prompt.format(context=retrieval_fusion_chain.invoke({\"question\": question}), question=question))\n",
    "        response = StrOutputParser().parse(text=llm_response.content)\n",
    "        attempt += 1\n",
    "    return response\n"
   ],
   "id": "7132dd6c85fef972",
   "outputs": [],
   "execution_count": null
  },
  {
   "metadata": {},
   "cell_type": "markdown",
   "source": "Try it out!",
   "id": "100597f3df51245e"
  },
  {
   "metadata": {},
   "cell_type": "code",
   "source": "print(generate_answer(\"What is the code A_100?\"))",
   "id": "3a60bb9fbed58bd4",
   "outputs": [],
   "execution_count": null
  },
  {
   "metadata": {},
   "cell_type": "code",
   "source": "",
   "id": "bb2f7afc1e57ef98",
   "outputs": [],
   "execution_count": null
  }
 ],
 "metadata": {
  "kernelspec": {
   "display_name": "Python 3",
   "language": "python",
   "name": "python3"
  },
  "language_info": {
   "codemirror_mode": {
    "name": "ipython",
    "version": 2
   },
   "file_extension": ".py",
   "mimetype": "text/x-python",
   "name": "python",
   "nbconvert_exporter": "python",
   "pygments_lexer": "ipython2",
   "version": "2.7.6"
  }
 },
 "nbformat": 4,
 "nbformat_minor": 5
}
