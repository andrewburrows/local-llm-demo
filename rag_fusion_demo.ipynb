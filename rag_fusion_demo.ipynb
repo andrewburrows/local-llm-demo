{
 "cells": [
  {
   "metadata": {},
   "cell_type": "markdown",
   "source": "RAG Fusion with Local LLM.\n",
   "id": "aa3289644c48b54f"
  },
  {
   "metadata": {},
   "cell_type": "markdown",
   "source": "Install python packages required for langchain",
   "id": "71dd432900db3b62"
  },
  {
   "cell_type": "code",
   "id": "initial_id",
   "metadata": {
    "collapsed": true
   },
   "source": "! pip install langchain_community tiktoken langchain-openai langchainhub chromadb langchain unstructured sentence-transformers pytesseract unstructured_pytesseract tesseract",
   "outputs": [],
   "execution_count": null
  },
  {
   "metadata": {},
   "cell_type": "markdown",
   "source": [
    "Set up os environment variables.\n",
    "This is to enable visibility of tracing langchain invocations on smith.langchain.com"
   ],
   "id": "476ed2a850ee25df"
  },
  {
   "metadata": {},
   "cell_type": "code",
   "source": [
    "import os\n",
    "os.environ['LANGCHAIN_TRACING_V2'] = 'true'\n",
    "os.environ['LANGCHAIN_ENDPOINT'] = 'https://api.smith.langchain.com'\n",
    "os.environ['LANGCHAIN_API_KEY'] = \"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\""
   ],
   "id": "2d2fe68894954875",
   "outputs": [],
   "execution_count": null
  },
  {
   "metadata": {},
   "cell_type": "markdown",
   "source": "Set up indexing for the vector store db",
   "id": "a372465febe55f67"
  },
  {
   "metadata": {},
   "cell_type": "code",
   "source": [
    "from langchain_community.document_loaders import DirectoryLoader, UnstructuredPDFLoader\n",
    "from langchain_community.document_loaders import UnstructuredFileLoader\n",
    "from langchain_community.vectorstores import Chroma\n",
    "from langchain_text_splitters import CharacterTextSplitter\n",
    "from langchain_community.embeddings.sentence_transformer import (SentenceTransformerEmbeddings,)\n",
    "loader = DirectoryLoader(\"./documents/markdown\", glob=\"**/*.md\", show_progress=True, loader_cls=UnstructuredFileLoader)\n",
    "documents = loader.load()\n",
    "text_splitter = CharacterTextSplitter(chunk_size=500, chunk_overlap=100)\n",
    "pdf_loader = DirectoryLoader('./documents/pdf', glob=\"**/*.pdf\", show_progress=True, loader_cls=UnstructuredPDFLoader, use_multithreading=True)\n",
    "pdf_docs = pdf_loader.load()\n",
    "pdf_splitter = CharacterTextSplitter(chunk_size=600, chunk_overlap=50)\n",
    "split_docs = text_splitter.split_documents(documents) + pdf_splitter.split_documents(pdf_docs)\n",
    "embedding_function = SentenceTransformerEmbeddings(model_name=\"all-MiniLM-L6-v2\")\n",
    "vectorstore = Chroma.from_documents(documents=split_docs,\n",
    "                                    embedding=embedding_function,\n",
    "                                    persist_directory=\"./db\")\n",
    "retriever = vectorstore.as_retriever()"
   ],
   "id": "152205ef37ab7cf6",
   "outputs": [],
   "execution_count": null
  },
  {
   "metadata": {},
   "cell_type": "markdown",
   "source": "Query the vector store to retrieve query similar documents",
   "id": "b651fa535b1b7f7a"
  },
  {
   "metadata": {},
   "cell_type": "code",
   "source": [
    "query = \"What is the code A_100?\"\n",
    "print(vectorstore)\n",
    "docs = vectorstore.similarity_search(query)\n",
    "for doc in docs:\n",
    "    print(f\"Document source: {doc.metadata}\")\n",
    "    print(f\"Document page_content: {doc.page_content}\\n\")\n",
    "    print(f\"--------------------------------------------\")"
   ],
   "id": "bf406abc637fee83",
   "outputs": [],
   "execution_count": null
  },
  {
   "metadata": {},
   "cell_type": "markdown",
   "source": "Generate multiple search queries based on the user's input question.",
   "id": "51a05a9354c7b75b"
  },
  {
   "metadata": {},
   "cell_type": "code",
   "source": [
    "from langchain_community.chat_models import ChatOllama\n",
    "from langchain.prompts import ChatPromptTemplate\n",
    "\n",
    "question = \"What are other custom claims to enforce additional access control rules in JWT?\"\n",
    "\n",
    "# RAG-Fusion: Related\n",
    "template = \"\"\"You are a helpful assistant that generates multiple sub-questions related to an input question.\n",
    "The goal is to break down the input into a set of sub-problems / sub-questions that can be answers in isolation.\n",
    "Generate multiple search queries related to: {question}\n",
    "The three queries are (3 queries):\"\"\"\n",
    "prompt_rag_fusion = ChatPromptTemplate.from_template(template)\n",
    "from langchain_core.output_parsers import StrOutputParser\n",
    "\n",
    "def print_ouput(output):\n",
    "    print(output)\n",
    "    return output\n",
    "\n",
    "generate_queries = (\n",
    "        prompt_rag_fusion\n",
    "        | ChatOllama(model=\"ghyghoo8/minicpm-llama3-2_5:8b\")\n",
    "        | StrOutputParser()\n",
    "        | (lambda llm_response: llm_response.split(\"\\n\"))\n",
    "        | (lambda queries: list(filter(lambda item: item.strip(), queries)))\n",
    ")\n",
    "\n",
    "queries_output = []\n",
    "while len(queries_output) != 3:\n",
    "    queries_output = generate_queries.invoke({\"question\":question})\n",
    "\n",
    "print(queries_output)\n"
   ],
   "id": "c4c16bf15efdd235",
   "outputs": [],
   "execution_count": null
  },
  {
   "metadata": {},
   "cell_type": "markdown",
   "source": [
    "Retrieve the related documents to the three queries provided by the LLM. \n",
    "Perform ranking of the retrieved documents."
   ],
   "id": "9021a6dc1c203b89"
  },
  {
   "metadata": {},
   "cell_type": "code",
   "source": [
    "from langchain.load import dumps, loads\n",
    "\n",
    "def reciprocal_rank_fusion(results: list[list], k=60):\n",
    "    fused_scores = {}\n",
    "    for docs in results:\n",
    "        for rank, doc in enumerate(docs):\n",
    "            doc_str = dumps(doc)\n",
    "            if doc_str not in fused_scores:\n",
    "                fused_scores[doc_str] = 0\n",
    "            previous_score = fused_scores[doc_str]\n",
    "            fused_scores[doc_str] += 1 / (rank + k)\n",
    "    reranked_results = [\n",
    "        (loads(doc), score)\n",
    "        for doc, score in sorted(fused_scores.items(), key=lambda x: x[1], reverse=True)\n",
    "    ]\n",
    "    return reranked_results\n",
    "\n",
    "retrieval_chain = generate_queries | retriever.map() | reciprocal_rank_fusion\n",
    "docs = retrieval_chain.invoke({\"question\":question})\n",
    "\n",
    "\n",
    "print(f\"Number of docs retrieved: {len(docs)}\")\n",
    "for doc in docs:\n",
    "    print(f\"Document score: {doc[1]}\")\n",
    "    print(f\"Document source: {doc[0].metadata}\")\n",
    "    print(f\"Document page content:\")\n",
    "    print(f\"\\t{doc[0].page_content}\")\n",
    "    print(f\"--------------------------------------------\\n\")"
   ],
   "id": "eeda097aa6638f64",
   "outputs": [],
   "execution_count": null
  },
  {
   "metadata": {},
   "cell_type": "code",
   "source": [
    "from operator import itemgetter\n",
    "\n",
    "# RAG\n",
    "template = \"\"\"Answer the following question based on this context:\n",
    "\n",
    "{context}\n",
    "\n",
    "Question: {question}\n",
    "\"\"\"\n",
    "\n",
    "prompt = ChatPromptTemplate.from_template(template)\n",
    "\n",
    "final_rag_chain = (\n",
    "        {\"context\": retrieval_chain,\n",
    "         \"question\": itemgetter(\"question\")}\n",
    "        | prompt\n",
    "        | ChatOllama(model=\"ghyghoo8/minicpm-llama3-2_5:8b\")\n",
    "        | StrOutputParser()\n",
    ")\n",
    "response = ''\n",
    "while not response:\n",
    "    response = final_rag_chain.invoke({\"question\":question})\n",
    "print(response)"
   ],
   "id": "7132dd6c85fef972",
   "outputs": [],
   "execution_count": null
  },
  {
   "metadata": {},
   "cell_type": "code",
   "source": "",
   "id": "b8f20407c7d258e1",
   "outputs": [],
   "execution_count": null
  }
 ],
 "metadata": {
  "kernelspec": {
   "display_name": "Python 3",
   "language": "python",
   "name": "python3"
  },
  "language_info": {
   "codemirror_mode": {
    "name": "ipython",
    "version": 2
   },
   "file_extension": ".py",
   "mimetype": "text/x-python",
   "name": "python",
   "nbconvert_exporter": "python",
   "pygments_lexer": "ipython2",
   "version": "2.7.6"
  }
 },
 "nbformat": 4,
 "nbformat_minor": 5
}
