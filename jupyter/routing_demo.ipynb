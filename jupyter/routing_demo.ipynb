{
 "cells": [
  {
   "cell_type": "code",
   "id": "initial_id",
   "metadata": {
    "collapsed": true
   },
   "source": "! pip install -r requirements.txt",
   "outputs": [],
   "execution_count": null
  },
  {
   "metadata": {},
   "cell_type": "code",
   "source": [
    "from langchain_community.document_loaders import DirectoryLoader, UnstructuredPDFLoader, UnstructuredMarkdownLoader\n",
    "from langchain_community.vectorstores import Chroma\n",
    "from langchain_text_splitters import CharacterTextSplitter\n",
    "from langchain_community.embeddings.sentence_transformer import (SentenceTransformerEmbeddings,)\n",
    "\n",
    "documents = DirectoryLoader(\"../documents/high_level_docs\", glob=\"**/*.md\", show_progress=True, loader_cls=UnstructuredMarkdownLoader).load()\n",
    "apidocs = DirectoryLoader(\"../documents/api_docs\", glob=\"**/*.md\", show_progress=True, loader_cls=UnstructuredMarkdownLoader).load()\n",
    "features = DirectoryLoader(\"../documents/cucumber_feature_files\", glob=\"**/*.md\", show_progress=True, loader_cls=UnstructuredMarkdownLoader).load()\n",
    "pdf_docs = DirectoryLoader('../documents/high_level_docs', glob=\"**/*.pdf\", show_progress=True, loader_cls=UnstructuredPDFLoader).load()\n",
    "\n",
    "splitter = CharacterTextSplitter(chunk_size=1000, chunk_overlap=100)\n",
    "split_docs = splitter.split_documents(documents) + splitter.split_documents(apidocs) + splitter.split_documents(features) + splitter.split_documents(pdf_docs)\n",
    "\n",
    "embedding_function = SentenceTransformerEmbeddings(model_name=\"all-MiniLM-L6-v2\")\n",
    "vectorstore = Chroma.from_documents(documents=split_docs,\n",
    "                                    embedding=embedding_function,\n",
    "                                    persist_directory=\"./db_test_3\")\n",
    "retriever = vectorstore.as_retriever()"
   ],
   "id": "c6d21f51e6c6bc92",
   "outputs": [],
   "execution_count": null
  },
  {
   "metadata": {},
   "cell_type": "code",
   "source": [
    "from typing import Literal\n",
    "from langchain_core.pydantic_v1 import BaseModel, Field\n",
    "from langchain_experimental.llms.ollama_functions import OllamaFunctions\n",
    "\n",
    "class DocumentType(BaseModel):\n",
    "    datasource: Literal[\"api_docs\", \"cucumber_feature_files\", \"high_level_docs\", \"no_related_document\"] = Field(\n",
    "        default=\"no_related_document\",\n",
    "        title=\"Most relevant document\",\n",
    "        description=\"Given a user question choose which document would be most relevant for answering their question\", required=True)\n",
    "\n",
    "llm = OllamaFunctions(model=\"llama3\", format=\"json\")\n",
    "structured_llm = llm.with_structured_output(DocumentType)\n",
    "\n",
    "# Prompt \n",
    "system = \"\"\"You are an expert at routing a user question to the appropriate document.\n",
    "\n",
    "The user question should be related \n",
    "Based on the question, route to the most relevant documents.\n",
    "The user question should be related to a product catalogue service, the question is not applicable then return 'no_related_document'.\n",
    "\n",
    "The following documents are available:\n",
    "'api_docs' - Technical documentation that describes the structure, functionality, and usage of an API\n",
    "'cucumber_feature_files' - Test scenarios and acceptance criteria for software features and behaviour\n",
    "'high_level_docs' - Overview documents that provide a broad, conceptual understanding of a system, project, or topic without delving into granular details.\n",
    "'no_related_document' - There are no related documents available.\n",
    "\n",
    "Inside api_docs there are:\n",
    "    product-provisioner.md\n",
    "    product-store.md\n",
    "    products-and-catalogue-service.md\n",
    "    purchase-gateway.md\n",
    "    purchase-orchestrator.md\n",
    "    third-party-payment-transaction-service.md\n",
    "Inside cucumber-feature files there are:\n",
    "    client-user-journey.md\n",
    "    content-access-permission-jwt.md\n",
    "    content-access-permissions.md\n",
    "    general-system-failures.md\n",
    "    product-provisioner.md\n",
    "    product-store.md\n",
    "    products-and-catalogue-service.md\n",
    "    purchase-gateway.md\n",
    "    purchase-orchestrator.md\n",
    "    third-party-payment-transaction-service.md\n",
    "Inside high_level_docs there are:\n",
    "    Architecture.md\n",
    "    Getting to know our clients.pdf\n",
    "    high-level-architecture.md\n",
    "    JWT Overview.pdf\n",
    "    \n",
    "Please respond one of [\"api_docs\", \"cucumber_feature_files\", \"high_level_docs\", \"no_related_document\"]:\n",
    "\"\"\"\n",
    "\n",
    "from langchain_core.prompts import PromptTemplate\n",
    "\n",
    "prompt = PromptTemplate.from_template(\n",
    "    \"\"\"You are an expert at routing a user question to the appropriate document.\n",
    "\n",
    "Based on the question, route to the most relevant documents, if not applicable then return 'no_related_document'\n",
    "\n",
    "Human: {question}\n",
    "AI: \"\"\"\n",
    ")\n",
    "\n",
    "# Define router \n",
    "router = prompt | structured_llm"
   ],
   "id": "3b091f15ae9519e1",
   "outputs": [],
   "execution_count": null
  },
  {
   "metadata": {},
   "cell_type": "code",
   "source": [
    "print(router.invoke({\"question\": \"What is the error code A_100?\"}))\n",
    "print(router.invoke({\"question\": \"What is the full list of Authentication error codes?\"}))\n",
    "print(router.invoke({\"question\": \"What are the downstream of purchase gateway?\"}))\n",
    "print(router.invoke({\"question\": \"What is the size of the sun?\"}))"
   ],
   "id": "b69e67768143fd51",
   "outputs": [],
   "execution_count": null
  },
  {
   "metadata": {},
   "cell_type": "code",
   "source": "",
   "id": "ee244d6271cd26f6",
   "outputs": [],
   "execution_count": null
  }
 ],
 "metadata": {
  "kernelspec": {
   "display_name": "Python 3",
   "language": "python",
   "name": "python3"
  },
  "language_info": {
   "codemirror_mode": {
    "name": "ipython",
    "version": 2
   },
   "file_extension": ".py",
   "mimetype": "text/x-python",
   "name": "python",
   "nbconvert_exporter": "python",
   "pygments_lexer": "ipython2",
   "version": "2.7.6"
  }
 },
 "nbformat": 4,
 "nbformat_minor": 5
}
