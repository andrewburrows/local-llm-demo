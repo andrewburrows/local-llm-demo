{
 "cells": [
  {
   "metadata": {},
   "cell_type": "markdown",
   "source": "RAG Fusion with Local LLM.\n",
   "id": "aa3289644c48b54f"
  },
  {
   "metadata": {},
   "cell_type": "markdown",
   "source": "Install python packages required for langchain",
   "id": "71dd432900db3b62"
  },
  {
   "cell_type": "code",
   "id": "initial_id",
   "metadata": {
    "collapsed": true
   },
   "source": "! pip install -r ../requirements.txt",
   "outputs": [],
   "execution_count": null
  },
  {
   "metadata": {},
   "cell_type": "markdown",
   "source": [
    "Set up os environment variables.\n",
    "This is to enable visibility of tracing langchain invocations on smith.langchain.com"
   ],
   "id": "476ed2a850ee25df"
  },
  {
   "metadata": {},
   "cell_type": "code",
   "source": [
    "import os\n",
    "\n",
    "# Uncomment below if you want to use [LangSmith](https://smith.langchain.com/) for debugging\n",
    "# os.environ['LANGCHAIN_TRACING_V2'] = 'true'\n",
    "# os.environ['LANGCHAIN_ENDPOINT'] = 'https://api.smith.langchain.com'\n",
    "# os.environ['LANGCHAIN_API_KEY'] = \"<LANGCHAIN_API\"\n",
    "os.environ['TOKENIZERS_PARALLELISM'] = 'false'"
   ],
   "id": "2d2fe68894954875",
   "outputs": [],
   "execution_count": null
  },
  {
   "metadata": {},
   "cell_type": "markdown",
   "source": "Set up indexing for the vector store db",
   "id": "a372465febe55f67"
  },
  {
   "metadata": {},
   "cell_type": "code",
   "source": [
    "from ragatouille import RAGPretrainedModel\n",
    "from langchain_community.document_loaders import DirectoryLoader, UnstructuredPDFLoader, UnstructuredMarkdownLoader\n",
    "from langchain.retrievers import ContextualCompressionRetriever\n",
    "from langchain_text_splitters import RecursiveCharacterTextSplitter\n",
    "\n",
    "# https://python.langchain.com/v0.2/docs/integrations/retrievers/ragatouille/\n",
    "RAG = RAGPretrainedModel.from_pretrained(\"colbert-ir/colbertv2.0\")\n",
    "\n",
    "documents = DirectoryLoader(\"../documents/high_level_docs\", glob=\"**/*.md\", show_progress=True,\n",
    "                            loader_cls=UnstructuredMarkdownLoader).load()\n",
    "apidocs = DirectoryLoader(\"../documents/api_docs\", glob=\"**/*.md\", show_progress=True,\n",
    "                          loader_cls=UnstructuredMarkdownLoader).load()\n",
    "features = DirectoryLoader(\"../documents/cucumber_feature_files\", glob=\"**/*.md\", show_progress=True,\n",
    "                           loader_cls=UnstructuredMarkdownLoader).load()\n",
    "pdf_docs = DirectoryLoader('../documents/high_level_docs', glob=\"**/*.pdf\", show_progress=True,\n",
    "                           loader_cls=UnstructuredPDFLoader).load()\n",
    "\n",
    "all_documents = []\n",
    "# Extract the text from the loaded documents\n",
    "documents_text = [doc.page_content for doc in documents]\n",
    "apidocs_text = [doc.page_content for doc in apidocs]\n",
    "features_text = [doc.page_content for doc in features]\n",
    "pdf_docs_text = [doc.page_content for doc in pdf_docs]\n",
    "all_documents.extend(documents_text)\n",
    "all_documents.extend(apidocs_text)\n",
    "all_documents.extend(features_text)\n",
    "all_documents.extend(pdf_docs_text)\n",
    "\n",
    "RAG.index(\n",
    "    collection=all_documents,\n",
    "    index_name=\"Combined-Docs\",\n",
    "    max_document_length=512,\n",
    "    split_documents=True,\n",
    ")\n",
    "\n",
    "retriever = RAG.as_langchain_retriever()\n",
    "compression_retriever = ContextualCompressionRetriever(\n",
    "    base_compressor=RAG.as_langchain_document_compressor(), base_retriever=retriever\n",
    ")\n"
   ],
   "id": "152205ef37ab7cf6",
   "outputs": [],
   "execution_count": null
  },
  {
   "metadata": {},
   "cell_type": "markdown",
   "source": "Reranker ColBERT with context about the question",
   "id": "72152fc0281907c9"
  },
  {
   "metadata": {},
   "cell_type": "code",
   "source": [
    "question=\"What fields are included in the request to Purchase Orchestrator?\"\n",
    "\n",
    "context_docs = compression_retriever.invoke(question)\n",
    "print(f\">>>>>>>>>>>>>>> DOC: \\n\\n\" + context_docs[0].page_content)\n",
    "print(f\">>>>>>>>>>>>>>> SCORE: \\n\\n {context_docs[0].metadata}\")\n",
    "print(f\">>>>>>>>>>>>>>> DOC: \\n\\n\" + context_docs[1].page_content)\n",
    "print(f\">>>>>>>>>>>>>>> SCORE: \\n\\n {context_docs[1].metadata}\")"
   ],
   "id": "356381fe8869646b",
   "outputs": [],
   "execution_count": null
  },
  {
   "metadata": {},
   "cell_type": "markdown",
   "source": [
    "Pass the documents back into the context for the LLM and include the original question\n",
    " and Try it out!"
   ],
   "id": "100597f3df51245e"
  },
  {
   "metadata": {},
   "cell_type": "code",
   "source": [
    "from langchain.prompts import ChatPromptTemplate\n",
    "from langchain_community.chat_models import ChatOllama\n",
    "from langchain_core.output_parsers import StrOutputParser\n",
    "from operator import itemgetter\n",
    "\n",
    "template = \"\"\"Answer the following question based on this context:\n",
    "\n",
    "{context}\n",
    "\n",
    "Question: {question}\n",
    "\"\"\"\n",
    "\n",
    "prompt = ChatPromptTemplate.from_template(template)\n",
    "\n",
    "final_rag_chain = (\n",
    "    {\"context\": lambda x: \"\\n\".join(doc.page_content for doc in context_docs[:2]), \n",
    "     \"question\": itemgetter(\"question\")} \n",
    "    | prompt\n",
    "    | ChatOllama(model=\"llama3\")\n",
    "    | StrOutputParser()\n",
    ")\n",
    "\n",
    "final_rag_chain.invoke({\"question\":question})"
   ],
   "id": "3a60bb9fbed58bd4",
   "outputs": [],
   "execution_count": null
  },
  {
   "metadata": {},
   "cell_type": "code",
   "source": "",
   "id": "be56add9d852b1a0",
   "outputs": [],
   "execution_count": null
  }
 ],
 "metadata": {
  "kernelspec": {
   "display_name": "Python 3",
   "language": "python",
   "name": "python3"
  },
  "language_info": {
   "codemirror_mode": {
    "name": "ipython",
    "version": 2
   },
   "file_extension": ".py",
   "mimetype": "text/x-python",
   "name": "python",
   "nbconvert_exporter": "python",
   "pygments_lexer": "ipython2",
   "version": "2.7.6"
  }
 },
 "nbformat": 4,
 "nbformat_minor": 5
}
